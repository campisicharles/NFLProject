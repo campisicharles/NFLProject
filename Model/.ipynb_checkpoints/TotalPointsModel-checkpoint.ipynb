{
 "cells": [
  {
   "cell_type": "code",
   "execution_count": 16,
   "metadata": {},
   "outputs": [
    {
     "data": {
      "text/html": [
       "<div>\n",
       "<style scoped>\n",
       "    .dataframe tbody tr th:only-of-type {\n",
       "        vertical-align: middle;\n",
       "    }\n",
       "\n",
       "    .dataframe tbody tr th {\n",
       "        vertical-align: top;\n",
       "    }\n",
       "\n",
       "    .dataframe thead th {\n",
       "        text-align: right;\n",
       "    }\n",
       "</style>\n",
       "<table border=\"1\" class=\"dataframe\">\n",
       "  <thead>\n",
       "    <tr style=\"text-align: right;\">\n",
       "      <th></th>\n",
       "      <th>year</th>\n",
       "      <th>week</th>\n",
       "      <th>hometeam</th>\n",
       "      <th>awayteam</th>\n",
       "      <th>homescore</th>\n",
       "      <th>awayscore</th>\n",
       "      <th>pointdiff</th>\n",
       "      <th>hwhl</th>\n",
       "      <th>covered</th>\n",
       "      <th>homeline</th>\n",
       "      <th>...</th>\n",
       "      <th>home_defrushdvoa</th>\n",
       "      <th>home_stdvoa</th>\n",
       "      <th>visit_totaldvoa</th>\n",
       "      <th>visit_offensedvoa</th>\n",
       "      <th>visit_offpassdvoa</th>\n",
       "      <th>visit_offrushdvoa</th>\n",
       "      <th>visit_defensedvoa</th>\n",
       "      <th>visit_defpassdvoa</th>\n",
       "      <th>visit_defrushdvoa</th>\n",
       "      <th>visit_stdvoa</th>\n",
       "    </tr>\n",
       "  </thead>\n",
       "  <tbody>\n",
       "    <tr>\n",
       "      <th>0</th>\n",
       "      <td>2015</td>\n",
       "      <td>1</td>\n",
       "      <td>DEN</td>\n",
       "      <td>BAL</td>\n",
       "      <td>19</td>\n",
       "      <td>13</td>\n",
       "      <td>6</td>\n",
       "      <td>1</td>\n",
       "      <td>1</td>\n",
       "      <td>-4.5</td>\n",
       "      <td>...</td>\n",
       "      <td>-0.207</td>\n",
       "      <td>0.051</td>\n",
       "      <td>0.011</td>\n",
       "      <td>-0.310</td>\n",
       "      <td>-0.532</td>\n",
       "      <td>-0.092</td>\n",
       "      <td>-0.268</td>\n",
       "      <td>-0.282</td>\n",
       "      <td>-0.248</td>\n",
       "      <td>0.053</td>\n",
       "    </tr>\n",
       "    <tr>\n",
       "      <th>1</th>\n",
       "      <td>2015</td>\n",
       "      <td>1</td>\n",
       "      <td>JAC</td>\n",
       "      <td>CAR</td>\n",
       "      <td>9</td>\n",
       "      <td>20</td>\n",
       "      <td>-11</td>\n",
       "      <td>0</td>\n",
       "      <td>0</td>\n",
       "      <td>3.0</td>\n",
       "      <td>...</td>\n",
       "      <td>-0.440</td>\n",
       "      <td>-0.159</td>\n",
       "      <td>-0.094</td>\n",
       "      <td>-0.285</td>\n",
       "      <td>-0.261</td>\n",
       "      <td>-0.304</td>\n",
       "      <td>-0.304</td>\n",
       "      <td>-0.501</td>\n",
       "      <td>0.073</td>\n",
       "      <td>-0.113</td>\n",
       "    </tr>\n",
       "    <tr>\n",
       "      <th>2</th>\n",
       "      <td>2015</td>\n",
       "      <td>1</td>\n",
       "      <td>OAK</td>\n",
       "      <td>CIN</td>\n",
       "      <td>13</td>\n",
       "      <td>33</td>\n",
       "      <td>-20</td>\n",
       "      <td>0</td>\n",
       "      <td>0</td>\n",
       "      <td>3.5</td>\n",
       "      <td>...</td>\n",
       "      <td>-0.002</td>\n",
       "      <td>0.007</td>\n",
       "      <td>0.623</td>\n",
       "      <td>0.436</td>\n",
       "      <td>0.837</td>\n",
       "      <td>0.099</td>\n",
       "      <td>-0.246</td>\n",
       "      <td>-0.151</td>\n",
       "      <td>-0.496</td>\n",
       "      <td>-0.060</td>\n",
       "    </tr>\n",
       "    <tr>\n",
       "      <th>3</th>\n",
       "      <td>2015</td>\n",
       "      <td>1</td>\n",
       "      <td>NYJ</td>\n",
       "      <td>CLE</td>\n",
       "      <td>31</td>\n",
       "      <td>10</td>\n",
       "      <td>21</td>\n",
       "      <td>1</td>\n",
       "      <td>1</td>\n",
       "      <td>-3.0</td>\n",
       "      <td>...</td>\n",
       "      <td>-0.417</td>\n",
       "      <td>-0.023</td>\n",
       "      <td>-0.490</td>\n",
       "      <td>-0.254</td>\n",
       "      <td>-0.111</td>\n",
       "      <td>-0.176</td>\n",
       "      <td>0.238</td>\n",
       "      <td>0.316</td>\n",
       "      <td>0.182</td>\n",
       "      <td>0.002</td>\n",
       "    </tr>\n",
       "    <tr>\n",
       "      <th>4</th>\n",
       "      <td>2015</td>\n",
       "      <td>1</td>\n",
       "      <td>SD</td>\n",
       "      <td>DET</td>\n",
       "      <td>33</td>\n",
       "      <td>28</td>\n",
       "      <td>5</td>\n",
       "      <td>1</td>\n",
       "      <td>1</td>\n",
       "      <td>-3.0</td>\n",
       "      <td>...</td>\n",
       "      <td>-0.184</td>\n",
       "      <td>-0.115</td>\n",
       "      <td>-0.285</td>\n",
       "      <td>-0.197</td>\n",
       "      <td>-0.100</td>\n",
       "      <td>-0.373</td>\n",
       "      <td>0.136</td>\n",
       "      <td>0.230</td>\n",
       "      <td>0.005</td>\n",
       "      <td>0.047</td>\n",
       "    </tr>\n",
       "  </tbody>\n",
       "</table>\n",
       "<p>5 rows × 29 columns</p>\n",
       "</div>"
      ],
      "text/plain": [
       "   year  week hometeam awayteam  homescore  awayscore  pointdiff  hwhl  \\\n",
       "0  2015     1      DEN      BAL         19         13          6     1   \n",
       "1  2015     1      JAC      CAR          9         20        -11     0   \n",
       "2  2015     1      OAK      CIN         13         33        -20     0   \n",
       "3  2015     1      NYJ      CLE         31         10         21     1   \n",
       "4  2015     1       SD      DET         33         28          5     1   \n",
       "\n",
       "   covered  homeline  ...  home_defrushdvoa  home_stdvoa  visit_totaldvoa  \\\n",
       "0        1      -4.5  ...            -0.207        0.051            0.011   \n",
       "1        0       3.0  ...            -0.440       -0.159           -0.094   \n",
       "2        0       3.5  ...            -0.002        0.007            0.623   \n",
       "3        1      -3.0  ...            -0.417       -0.023           -0.490   \n",
       "4        1      -3.0  ...            -0.184       -0.115           -0.285   \n",
       "\n",
       "   visit_offensedvoa  visit_offpassdvoa  visit_offrushdvoa  visit_defensedvoa  \\\n",
       "0             -0.310             -0.532             -0.092             -0.268   \n",
       "1             -0.285             -0.261             -0.304             -0.304   \n",
       "2              0.436              0.837              0.099             -0.246   \n",
       "3             -0.254             -0.111             -0.176              0.238   \n",
       "4             -0.197             -0.100             -0.373              0.136   \n",
       "\n",
       "   visit_defpassdvoa  visit_defrushdvoa  visit_stdvoa  \n",
       "0             -0.282             -0.248         0.053  \n",
       "1             -0.501              0.073        -0.113  \n",
       "2             -0.151             -0.496        -0.060  \n",
       "3              0.316              0.182         0.002  \n",
       "4              0.230              0.005         0.047  \n",
       "\n",
       "[5 rows x 29 columns]"
      ]
     },
     "execution_count": 16,
     "metadata": {},
     "output_type": "execute_result"
    }
   ],
   "source": [
    "import numpy as np\n",
    "import pandas as pd\n",
    "game_data = pd.read_csv('Game_Data3.csv')\n",
    "game_data.head()"
   ]
  },
  {
   "cell_type": "code",
   "execution_count": 17,
   "metadata": {},
   "outputs": [
    {
     "name": "stdout",
     "output_type": "stream",
     "text": [
      "(1111, 12) (1111,)\n"
     ]
    }
   ],
   "source": [
    "X = game_data[['homeline', 'predicttotal', 'home_offpassdvoa', 'home_offrushdvoa', 'home_defpassdvoa', 'home_defrushdvoa', 'home_stdvoa', 'visit_offpassdvoa', 'visit_offrushdvoa', 'visit_defpassdvoa', 'visit_defrushdvoa', 'visit_stdvoa' ]]\n",
    "y = game_data['actualtotal']\n",
    "print(X.shape, y.shape)"
   ]
  },
  {
   "cell_type": "code",
   "execution_count": 6,
   "metadata": {},
   "outputs": [
    {
     "name": "stdout",
     "output_type": "stream",
     "text": [
      "MSE: 128.00524861498675, R2: 0.3392397151241886\n"
     ]
    }
   ],
   "source": [
    "from sklearn.model_selection import train_test_split\n",
    "from sklearn.linear_model import LinearRegression\n",
    "from sklearn.metrics import mean_squared_error\n",
    "\n",
    "model = LinearRegression()\n",
    "X_train, X_test, y_train, y_test = train_test_split(X, y, random_state=29)\n",
    "model.fit(X_train, y_train)\n",
    "\n",
    "\n",
    "MSE = mean_squared_error(y_train, model.predict(X_train))\n",
    "r2 = model.score(X_train, y_train)\n",
    "print(f\"MSE: {MSE}, R2: {r2}\")"
   ]
  },
  {
   "cell_type": "code",
   "execution_count": 7,
   "metadata": {},
   "outputs": [],
   "source": [
    "from sklearn.linear_model import LinearRegression\n",
    "from sklearn.model_selection import GridSearchCV\n",
    "model2 = LinearRegression()\n",
    "parameters = {'fit_intercept':[True,False], 'normalize':[True,False], 'copy_X':[True, False]}\n",
    "grid2 = GridSearchCV(model2,parameters, verbose=3, cv=3, scoring='r2')"
   ]
  },
  {
   "cell_type": "code",
   "execution_count": 8,
   "metadata": {},
   "outputs": [
    {
     "name": "stdout",
     "output_type": "stream",
     "text": [
      "Fitting 3 folds for each of 8 candidates, totalling 24 fits\n",
      "[CV] copy_X=True, fit_intercept=True, normalize=True .................\n",
      "[CV]  copy_X=True, fit_intercept=True, normalize=True, score=0.34879117229088474, total=   0.0s\n",
      "[CV] copy_X=True, fit_intercept=True, normalize=True .................\n",
      "[CV]  copy_X=True, fit_intercept=True, normalize=True, score=0.29040767260265166, total=   0.0s\n",
      "[CV] copy_X=True, fit_intercept=True, normalize=True .................\n",
      "[CV]  copy_X=True, fit_intercept=True, normalize=True, score=0.31573946307018586, total=   0.0s\n",
      "[CV] copy_X=True, fit_intercept=True, normalize=False ................\n",
      "[CV]  copy_X=True, fit_intercept=True, normalize=False, score=0.34879117229088485, total=   0.0s\n",
      "[CV] copy_X=True, fit_intercept=True, normalize=False ................\n",
      "[CV]  copy_X=True, fit_intercept=True, normalize=False, score=0.29040767260265166, total=   0.0s\n",
      "[CV] copy_X=True, fit_intercept=True, normalize=False ................\n",
      "[CV]  copy_X=True, fit_intercept=True, normalize=False, score=0.31573946307018586, total=   0.0s\n",
      "[CV] copy_X=True, fit_intercept=False, normalize=True ................\n",
      "[CV]  copy_X=True, fit_intercept=False, normalize=True, score=0.33475783587256225, total=   0.0s\n",
      "[CV] copy_X=True, fit_intercept=False, normalize=True ................\n",
      "[CV]  copy_X=True, fit_intercept=False, normalize=True, score=0.26271579403964673, total=   0.0s\n",
      "[CV] copy_X=True, fit_intercept=False, normalize=True ................\n",
      "[CV]  copy_X=True, fit_intercept=False, normalize=True, score=0.2949735827571247, total=   0.0s\n",
      "[CV] copy_X=True, fit_intercept=False, normalize=False ...............\n",
      "[CV]  copy_X=True, fit_intercept=False, normalize=False, score=0.33475783587256225, total=   0.0s\n",
      "[CV] copy_X=True, fit_intercept=False, normalize=False ...............\n",
      "[CV]  copy_X=True, fit_intercept=False, normalize=False, score=0.26271579403964673, total=   0.0s\n",
      "[CV] copy_X=True, fit_intercept=False, normalize=False ...............\n",
      "[CV]  copy_X=True, fit_intercept=False, normalize=False, score=0.2949735827571247, total=   0.0s\n",
      "[CV] copy_X=False, fit_intercept=True, normalize=True ................\n",
      "[CV]  copy_X=False, fit_intercept=True, normalize=True, score=0.34879117229088474, total=   0.0s\n",
      "[CV] copy_X=False, fit_intercept=True, normalize=True ................\n",
      "[CV]  copy_X=False, fit_intercept=True, normalize=True, score=0.29040767260265166, total=   0.0s\n",
      "[CV] copy_X=False, fit_intercept=True, normalize=True ................\n",
      "[CV]  copy_X=False, fit_intercept=True, normalize=True, score=0.31573946307018586, total=   0.0s\n",
      "[CV] copy_X=False, fit_intercept=True, normalize=False ...............\n",
      "[CV]  copy_X=False, fit_intercept=True, normalize=False, score=0.34879117229088485, total=   0.0s\n",
      "[CV] copy_X=False, fit_intercept=True, normalize=False ...............\n",
      "[CV]  copy_X=False, fit_intercept=True, normalize=False, score=0.29040767260265166, total=   0.0s\n",
      "[CV] copy_X=False, fit_intercept=True, normalize=False ...............\n",
      "[CV]  copy_X=False, fit_intercept=True, normalize=False, score=0.31573946307018586, total=   0.0s\n",
      "[CV] copy_X=False, fit_intercept=False, normalize=True ...............\n",
      "[CV]  copy_X=False, fit_intercept=False, normalize=True, score=0.33475783587256225, total=   0.0s\n",
      "[CV] copy_X=False, fit_intercept=False, normalize=True ...............\n",
      "[CV]  copy_X=False, fit_intercept=False, normalize=True, score=0.26271579403964673, total=   0.0s\n",
      "[CV] copy_X=False, fit_intercept=False, normalize=True ...............\n",
      "[CV]  copy_X=False, fit_intercept=False, normalize=True, score=0.2949735827571247, total=   0.0s\n",
      "[CV] copy_X=False, fit_intercept=False, normalize=False ..............\n",
      "[CV]  copy_X=False, fit_intercept=False, normalize=False, score=0.33475783587256225, total=   0.0s\n",
      "[CV] copy_X=False, fit_intercept=False, normalize=False ..............\n",
      "[CV]  copy_X=False, fit_intercept=False, normalize=False, score=0.26271579403964673, total=   0.0s\n",
      "[CV] copy_X=False, fit_intercept=False, normalize=False ..............\n",
      "[CV]  copy_X=False, fit_intercept=False, normalize=False, score=0.2949735827571247, total=   0.0s"
     ]
    },
    {
     "name": "stderr",
     "output_type": "stream",
     "text": [
      "[Parallel(n_jobs=1)]: Using backend SequentialBackend with 1 concurrent workers.\n",
      "[Parallel(n_jobs=1)]: Done   1 out of   1 | elapsed:    0.0s remaining:    0.0s\n",
      "[Parallel(n_jobs=1)]: Done   2 out of   2 | elapsed:    0.0s remaining:    0.0s\n"
     ]
    },
    {
     "name": "stdout",
     "output_type": "stream",
     "text": [
      "\n"
     ]
    },
    {
     "name": "stderr",
     "output_type": "stream",
     "text": [
      "[Parallel(n_jobs=1)]: Done  24 out of  24 | elapsed:    0.1s finished\n"
     ]
    },
    {
     "data": {
      "text/plain": [
       "GridSearchCV(cv=3, error_score='raise-deprecating',\n",
       "       estimator=LinearRegression(copy_X=True, fit_intercept=True, n_jobs=None,\n",
       "         normalize=False),\n",
       "       fit_params=None, iid='warn', n_jobs=None,\n",
       "       param_grid={'fit_intercept': [True, False], 'normalize': [True, False], 'copy_X': [True, False]},\n",
       "       pre_dispatch='2*n_jobs', refit=True, return_train_score='warn',\n",
       "       scoring='r2', verbose=3)"
      ]
     },
     "execution_count": 8,
     "metadata": {},
     "output_type": "execute_result"
    }
   ],
   "source": [
    "grid2.fit(X, y)"
   ]
  },
  {
   "cell_type": "code",
   "execution_count": 9,
   "metadata": {},
   "outputs": [
    {
     "name": "stdout",
     "output_type": "stream",
     "text": [
      "{'copy_X': True, 'fit_intercept': True, 'normalize': True}\n",
      "0.31834020262724405\n"
     ]
    }
   ],
   "source": [
    "print(grid2.best_params_)\n",
    "print(grid2.best_score_)"
   ]
  },
  {
   "cell_type": "code",
   "execution_count": 10,
   "metadata": {},
   "outputs": [
    {
     "name": "stdout",
     "output_type": "stream",
     "text": [
      "r2 / variance :  0.31834020262724405\n",
      "Residual sum of squares: 129.06\n"
     ]
    }
   ],
   "source": [
    "print (\"r2 / variance : \", grid2.best_score_)\n",
    "print(\"Residual sum of squares: %.2f\"\n",
    "              % np.mean((grid2.predict(X) -y) ** 2))"
   ]
  },
  {
   "cell_type": "code",
   "execution_count": 11,
   "metadata": {},
   "outputs": [],
   "source": [
    "pointsModel = LinearRegression(fit_intercept=True, normalize=True, copy_X=True)\n"
   ]
  },
  {
   "cell_type": "code",
   "execution_count": 14,
   "metadata": {},
   "outputs": [
    {
     "data": {
      "text/plain": [
       "array([46.19337077])"
      ]
     },
     "execution_count": 14,
     "metadata": {},
     "output_type": "execute_result"
    }
   ],
   "source": [
    "thursX = [[4.5,50.5,-0.1585,0.0125,0.201,-0.16775,-0.06975,0.4765,-0.22075,-0.107,0.076,-0.033]]\n",
    "pointsModel.fit(X,y)\n",
    "grid2.predict(thursX)"
   ]
  },
  {
   "cell_type": "code",
   "execution_count": 15,
   "metadata": {},
   "outputs": [
    {
     "data": {
      "text/plain": [
       "['Points.joblib']"
      ]
     },
     "execution_count": 15,
     "metadata": {},
     "output_type": "execute_result"
    }
   ],
   "source": [
    "\n",
    "from sklearn.externals import joblib\n",
    "joblib.dump(grid2,'Points.joblib')"
   ]
  },
  {
   "cell_type": "code",
   "execution_count": null,
   "metadata": {},
   "outputs": [],
   "source": []
  }
 ],
 "metadata": {
  "kernelspec": {
   "display_name": "Python 3",
   "language": "python",
   "name": "python3"
  },
  "language_info": {
   "codemirror_mode": {
    "name": "ipython",
    "version": 3
   },
   "file_extension": ".py",
   "mimetype": "text/x-python",
   "name": "python",
   "nbconvert_exporter": "python",
   "pygments_lexer": "ipython3",
   "version": "3.7.3"
  }
 },
 "nbformat": 4,
 "nbformat_minor": 2
}
