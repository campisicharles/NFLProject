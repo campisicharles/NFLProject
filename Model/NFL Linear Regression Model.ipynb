{
 "cells": [
  {
   "cell_type": "code",
   "execution_count": 2,
   "metadata": {},
   "outputs": [],
   "source": [
    "import numpy as np\n",
    "import pandas as pd\n"
   ]
  },
  {
   "cell_type": "code",
   "execution_count": 8,
   "metadata": {},
   "outputs": [
    {
     "data": {
      "text/html": [
       "<div>\n",
       "<style scoped>\n",
       "    .dataframe tbody tr th:only-of-type {\n",
       "        vertical-align: middle;\n",
       "    }\n",
       "\n",
       "    .dataframe tbody tr th {\n",
       "        vertical-align: top;\n",
       "    }\n",
       "\n",
       "    .dataframe thead th {\n",
       "        text-align: right;\n",
       "    }\n",
       "</style>\n",
       "<table border=\"1\" class=\"dataframe\">\n",
       "  <thead>\n",
       "    <tr style=\"text-align: right;\">\n",
       "      <th></th>\n",
       "      <th>Year</th>\n",
       "      <th>Week</th>\n",
       "      <th>HomeTeam</th>\n",
       "      <th>AwayTeam</th>\n",
       "      <th>HomeScore</th>\n",
       "      <th>AwayScore</th>\n",
       "      <th>PointDiff</th>\n",
       "      <th>HWHL</th>\n",
       "      <th>Covered</th>\n",
       "      <th>HomeLine</th>\n",
       "      <th>...</th>\n",
       "      <th>HOME_DefRushDVOA</th>\n",
       "      <th>HOME_STDVOA</th>\n",
       "      <th>VISIT_TotalDVOA</th>\n",
       "      <th>VISIT_OffenseDVOA</th>\n",
       "      <th>VISIT_OffPassDVOA</th>\n",
       "      <th>VISIT_OffRushDVOA</th>\n",
       "      <th>VISIT_DefenseDVOA</th>\n",
       "      <th>VISIT_DefPassDVOA</th>\n",
       "      <th>VISIT_DefRushDVOA</th>\n",
       "      <th>VISIT_STDVOA</th>\n",
       "    </tr>\n",
       "  </thead>\n",
       "  <tbody>\n",
       "    <tr>\n",
       "      <th>0</th>\n",
       "      <td>2019</td>\n",
       "      <td>6</td>\n",
       "      <td>GB</td>\n",
       "      <td>DET</td>\n",
       "      <td>23</td>\n",
       "      <td>22</td>\n",
       "      <td>1</td>\n",
       "      <td>0</td>\n",
       "      <td>0</td>\n",
       "      <td>-6.0</td>\n",
       "      <td>...</td>\n",
       "      <td>-0.221</td>\n",
       "      <td>2.000</td>\n",
       "      <td>-0.013</td>\n",
       "      <td>-0.246</td>\n",
       "      <td>0.026</td>\n",
       "      <td>-0.375</td>\n",
       "      <td>-0.014</td>\n",
       "      <td>-0.057</td>\n",
       "      <td>0.049</td>\n",
       "      <td>0.219</td>\n",
       "    </tr>\n",
       "    <tr>\n",
       "      <th>1</th>\n",
       "      <td>2019</td>\n",
       "      <td>6</td>\n",
       "      <td>SD</td>\n",
       "      <td>PIT</td>\n",
       "      <td>17</td>\n",
       "      <td>24</td>\n",
       "      <td>-7</td>\n",
       "      <td>1</td>\n",
       "      <td>0</td>\n",
       "      <td>-5.5</td>\n",
       "      <td>...</td>\n",
       "      <td>-0.069</td>\n",
       "      <td>-0.062</td>\n",
       "      <td>0.025</td>\n",
       "      <td>-0.056</td>\n",
       "      <td>0.161</td>\n",
       "      <td>-0.163</td>\n",
       "      <td>-0.050</td>\n",
       "      <td>0.069</td>\n",
       "      <td>-0.399</td>\n",
       "      <td>0.031</td>\n",
       "    </tr>\n",
       "    <tr>\n",
       "      <th>2</th>\n",
       "      <td>2019</td>\n",
       "      <td>6</td>\n",
       "      <td>DEN</td>\n",
       "      <td>TEN</td>\n",
       "      <td>16</td>\n",
       "      <td>0</td>\n",
       "      <td>16</td>\n",
       "      <td>0</td>\n",
       "      <td>1</td>\n",
       "      <td>-2.5</td>\n",
       "      <td>...</td>\n",
       "      <td>-0.628</td>\n",
       "      <td>0.085</td>\n",
       "      <td>-0.577</td>\n",
       "      <td>-0.724</td>\n",
       "      <td>-0.562</td>\n",
       "      <td>-0.692</td>\n",
       "      <td>-0.194</td>\n",
       "      <td>-0.179</td>\n",
       "      <td>-0.210</td>\n",
       "      <td>-0.047</td>\n",
       "    </tr>\n",
       "    <tr>\n",
       "      <th>3</th>\n",
       "      <td>2019</td>\n",
       "      <td>6</td>\n",
       "      <td>NYJ</td>\n",
       "      <td>DAL</td>\n",
       "      <td>24</td>\n",
       "      <td>22</td>\n",
       "      <td>2</td>\n",
       "      <td>0</td>\n",
       "      <td>1</td>\n",
       "      <td>8.5</td>\n",
       "      <td>...</td>\n",
       "      <td>-0.158</td>\n",
       "      <td>0.080</td>\n",
       "      <td>0.048</td>\n",
       "      <td>0.289</td>\n",
       "      <td>0.486</td>\n",
       "      <td>0.077</td>\n",
       "      <td>0.276</td>\n",
       "      <td>0.467</td>\n",
       "      <td>-0.086</td>\n",
       "      <td>0.036</td>\n",
       "    </tr>\n",
       "    <tr>\n",
       "      <th>4</th>\n",
       "      <td>2019</td>\n",
       "      <td>6</td>\n",
       "      <td>ARI</td>\n",
       "      <td>ATL</td>\n",
       "      <td>34</td>\n",
       "      <td>33</td>\n",
       "      <td>1</td>\n",
       "      <td>0</td>\n",
       "      <td>1</td>\n",
       "      <td>2.0</td>\n",
       "      <td>...</td>\n",
       "      <td>0.033</td>\n",
       "      <td>-0.023</td>\n",
       "      <td>-0.026</td>\n",
       "      <td>0.326</td>\n",
       "      <td>0.662</td>\n",
       "      <td>-0.034</td>\n",
       "      <td>0.337</td>\n",
       "      <td>0.802</td>\n",
       "      <td>-0.243</td>\n",
       "      <td>-0.015</td>\n",
       "    </tr>\n",
       "  </tbody>\n",
       "</table>\n",
       "<p>5 rows × 29 columns</p>\n",
       "</div>"
      ],
      "text/plain": [
       "   Year  Week HomeTeam AwayTeam  HomeScore  AwayScore  PointDiff  HWHL  \\\n",
       "0  2019     6       GB      DET         23         22          1     0   \n",
       "1  2019     6       SD      PIT         17         24         -7     1   \n",
       "2  2019     6      DEN      TEN         16          0         16     0   \n",
       "3  2019     6      NYJ      DAL         24         22          2     0   \n",
       "4  2019     6      ARI      ATL         34         33          1     0   \n",
       "\n",
       "   Covered  HomeLine  ...  HOME_DefRushDVOA  HOME_STDVOA  VISIT_TotalDVOA  \\\n",
       "0        0      -6.0  ...            -0.221        2.000           -0.013   \n",
       "1        0      -5.5  ...            -0.069       -0.062            0.025   \n",
       "2        1      -2.5  ...            -0.628        0.085           -0.577   \n",
       "3        1       8.5  ...            -0.158        0.080            0.048   \n",
       "4        1       2.0  ...             0.033       -0.023           -0.026   \n",
       "\n",
       "   VISIT_OffenseDVOA  VISIT_OffPassDVOA  VISIT_OffRushDVOA  VISIT_DefenseDVOA  \\\n",
       "0             -0.246              0.026             -0.375             -0.014   \n",
       "1             -0.056              0.161             -0.163             -0.050   \n",
       "2             -0.724             -0.562             -0.692             -0.194   \n",
       "3              0.289              0.486              0.077              0.276   \n",
       "4              0.326              0.662             -0.034              0.337   \n",
       "\n",
       "   VISIT_DefPassDVOA  VISIT_DefRushDVOA  VISIT_STDVOA  \n",
       "0             -0.057              0.049         0.219  \n",
       "1              0.069             -0.399         0.031  \n",
       "2             -0.179             -0.210        -0.047  \n",
       "3              0.467             -0.086         0.036  \n",
       "4              0.802             -0.243        -0.015  \n",
       "\n",
       "[5 rows x 29 columns]"
      ]
     },
     "execution_count": 8,
     "metadata": {},
     "output_type": "execute_result"
    }
   ],
   "source": [
    "game_data = pd.read_csv('Game_Data2.csv')\n",
    "game_data.head()"
   ]
  },
  {
   "cell_type": "code",
   "execution_count": 9,
   "metadata": {},
   "outputs": [
    {
     "name": "stdout",
     "output_type": "stream",
     "text": [
      "(1030, 12) (1030,)\n"
     ]
    }
   ],
   "source": [
    "X = game_data[['HomeLine', 'PredictTotal', 'HOME_OffPassDVOA', 'HOME_OffRushDVOA', 'HOME_DefPassDVOA', 'HOME_DefRushDVOA', 'HOME_STDVOA', 'VISIT_OffPassDVOA', 'VISIT_OffRushDVOA', 'VISIT_DefPassDVOA', 'VISIT_DefRushDVOA', 'VISIT_STDVOA' ]]\n",
    "y = game_data['PointDiff']\n",
    "print(X.shape, y.shape)\n"
   ]
  },
  {
   "cell_type": "code",
   "execution_count": null,
   "metadata": {
    "scrolled": true
   },
   "outputs": [],
   "source": [
    "from sklearn.linear_model import LinearRegression\n",
    "model = LinearRegression()\n",
    "model.fit(X, y)\n",
    "score = model.score(X, y)\n",
    "print(f\"R2 Score: {score}\")"
   ]
  },
  {
   "cell_type": "code",
   "execution_count": null,
   "metadata": {},
   "outputs": [],
   "source": [
    "from sklearn.model_selection import train_test_split\n",
    "from sklearn.metrics import mean_squared_error\n",
    "from sklearn.linear_model import LinearRegression\n",
    "model = LinearRegression()\n",
    "\n",
    "X_train, X_test, y_train, y_test = train_test_split(X, y, random_state=29)\n",
    "model.fit(X_train, y_train)\n",
    "\n",
    "\n",
    "MSE = mean_squared_error(y_train, model.predict(X_train))\n",
    "r2 = model.score(X_train, y_train)\n",
    "print(f\"MSE: {MSE}, R2: {r2}\")"
   ]
  },
  {
   "cell_type": "code",
   "execution_count": null,
   "metadata": {},
   "outputs": [],
   "source": [
    "import matplotlib.pyplot as plt\n",
    "    \n",
    "predictions = model.predict(X_test)\n",
    "\n",
    "plt.scatter(model.predict(X_train), model.predict(X_train) - y_train, c=\"blue\", label=\"Training Data\")\n",
    "plt.scatter(model.predict(X_test), model.predict(X_test) - y_test, c=\"orange\", label=\"Testing Data\")\n",
    "plt.legend()\n",
    "plt.hlines(y=0, xmin=y_test.min(), xmax=y_test.max())\n",
    "plt.title(\"Residual Plot\")\n",
    "plt.show()"
   ]
  },
  {
   "cell_type": "code",
   "execution_count": null,
   "metadata": {},
   "outputs": [],
   "source": [
    "from sklearn.externals import joblib\n",
    "model=joblib.load('John_Madden.joblib') "
   ]
  },
  {
   "cell_type": "code",
   "execution_count": 10,
   "metadata": {},
   "outputs": [],
   "source": [
    "from sklearn.linear_model import LinearRegression\n",
    "from sklearn.model_selection import GridSearchCV\n",
    "model2 = LinearRegression()\n",
    "parameters = {'fit_intercept':[True,False], 'normalize':[True,False], 'copy_X':[True, False]}\n",
    "grid2 = GridSearchCV(model2,parameters, verbose=3, cv=3, scoring='r2')\n"
   ]
  },
  {
   "cell_type": "code",
   "execution_count": 11,
   "metadata": {},
   "outputs": [
    {
     "name": "stdout",
     "output_type": "stream",
     "text": [
      "Fitting 3 folds for each of 8 candidates, totalling 24 fits\n",
      "[CV] copy_X=True, fit_intercept=True, normalize=True .................\n",
      "[CV]  copy_X=True, fit_intercept=True, normalize=True, score=0.7569272345453648, total=   0.0s\n",
      "[CV] copy_X=True, fit_intercept=True, normalize=True .................\n",
      "[CV]  copy_X=True, fit_intercept=True, normalize=True, score=0.75549319562969, total=   0.0s\n",
      "[CV] copy_X=True, fit_intercept=True, normalize=True .................\n",
      "[CV]  copy_X=True, fit_intercept=True, normalize=True, score=0.7839522114543782, total=   0.0s\n",
      "[CV] copy_X=True, fit_intercept=True, normalize=False ................\n",
      "[CV]  copy_X=True, fit_intercept=True, normalize=False, score=0.7569272345453651, total=   0.0s\n",
      "[CV] copy_X=True, fit_intercept=True, normalize=False ................\n",
      "[CV]  copy_X=True, fit_intercept=True, normalize=False, score=0.755493195629693, total=   0.0s\n",
      "[CV] copy_X=True, fit_intercept=True, normalize=False ................\n",
      "[CV]  copy_X=True, fit_intercept=True, normalize=False, score=0.7839522114543782, total=   0.0s\n",
      "[CV] copy_X=True, fit_intercept=False, normalize=True ................\n",
      "[CV]  copy_X=True, fit_intercept=False, normalize=True, score=0.7563474873900766, total=   0.0s\n",
      "[CV] copy_X=True, fit_intercept=False, normalize=True ................\n",
      "[CV]  copy_X=True, fit_intercept=False, normalize=True, score=0.759977803629363, total=   0.0s"
     ]
    },
    {
     "name": "stderr",
     "output_type": "stream",
     "text": [
      "[Parallel(n_jobs=1)]: Using backend SequentialBackend with 1 concurrent workers.\n",
      "[Parallel(n_jobs=1)]: Done   1 out of   1 | elapsed:    0.0s remaining:    0.0s\n",
      "[Parallel(n_jobs=1)]: Done   2 out of   2 | elapsed:    0.0s remaining:    0.0s\n"
     ]
    },
    {
     "name": "stdout",
     "output_type": "stream",
     "text": [
      "\n",
      "[CV] copy_X=True, fit_intercept=False, normalize=True ................\n",
      "[CV]  copy_X=True, fit_intercept=False, normalize=True, score=0.7828456664539601, total=   0.0s\n",
      "[CV] copy_X=True, fit_intercept=False, normalize=False ...............\n",
      "[CV]  copy_X=True, fit_intercept=False, normalize=False, score=0.7563474873900766, total=   0.0s\n",
      "[CV] copy_X=True, fit_intercept=False, normalize=False ...............\n",
      "[CV]  copy_X=True, fit_intercept=False, normalize=False, score=0.759977803629363, total=   0.0s\n",
      "[CV] copy_X=True, fit_intercept=False, normalize=False ...............\n",
      "[CV]  copy_X=True, fit_intercept=False, normalize=False, score=0.7828456664539601, total=   0.0s\n",
      "[CV] copy_X=False, fit_intercept=True, normalize=True ................\n",
      "[CV]  copy_X=False, fit_intercept=True, normalize=True, score=0.7569272345453648, total=   0.0s\n",
      "[CV] copy_X=False, fit_intercept=True, normalize=True ................\n",
      "[CV]  copy_X=False, fit_intercept=True, normalize=True, score=0.75549319562969, total=   0.0s\n",
      "[CV] copy_X=False, fit_intercept=True, normalize=True ................\n",
      "[CV]  copy_X=False, fit_intercept=True, normalize=True, score=0.7839522114543782, total=   0.0s\n",
      "[CV] copy_X=False, fit_intercept=True, normalize=False ...............\n",
      "[CV]  copy_X=False, fit_intercept=True, normalize=False, score=0.7569272345453651, total=   0.0s\n",
      "[CV] copy_X=False, fit_intercept=True, normalize=False ...............\n",
      "[CV]  copy_X=False, fit_intercept=True, normalize=False, score=0.755493195629693, total=   0.0s\n",
      "[CV] copy_X=False, fit_intercept=True, normalize=False ...............\n",
      "[CV]  copy_X=False, fit_intercept=True, normalize=False, score=0.7839522114543782, total=   0.0s\n",
      "[CV] copy_X=False, fit_intercept=False, normalize=True ...............\n",
      "[CV]  copy_X=False, fit_intercept=False, normalize=True, score=0.7563474873900766, total=   0.0s\n",
      "[CV] copy_X=False, fit_intercept=False, normalize=True ...............\n",
      "[CV]  copy_X=False, fit_intercept=False, normalize=True, score=0.759977803629363, total=   0.0s\n",
      "[CV] copy_X=False, fit_intercept=False, normalize=True ...............\n",
      "[CV]  copy_X=False, fit_intercept=False, normalize=True, score=0.7828456664539601, total=   0.0s\n",
      "[CV] copy_X=False, fit_intercept=False, normalize=False ..............\n",
      "[CV]  copy_X=False, fit_intercept=False, normalize=False, score=0.7563474873900766, total=   0.0s\n",
      "[CV] copy_X=False, fit_intercept=False, normalize=False ..............\n",
      "[CV]  copy_X=False, fit_intercept=False, normalize=False, score=0.759977803629363, total=   0.0s\n",
      "[CV] copy_X=False, fit_intercept=False, normalize=False ..............\n",
      "[CV]  copy_X=False, fit_intercept=False, normalize=False, score=0.7828456664539601, total=   0.0s\n"
     ]
    },
    {
     "name": "stderr",
     "output_type": "stream",
     "text": [
      "[Parallel(n_jobs=1)]: Done  24 out of  24 | elapsed:    0.2s finished\n"
     ]
    },
    {
     "data": {
      "text/plain": [
       "GridSearchCV(cv=3, error_score='raise-deprecating',\n",
       "       estimator=LinearRegression(copy_X=True, fit_intercept=True, n_jobs=None,\n",
       "         normalize=False),\n",
       "       fit_params=None, iid='warn', n_jobs=None,\n",
       "       param_grid={'fit_intercept': [True, False], 'normalize': [True, False], 'copy_X': [True, False]},\n",
       "       pre_dispatch='2*n_jobs', refit=True, return_train_score='warn',\n",
       "       scoring='r2', verbose=3)"
      ]
     },
     "execution_count": 11,
     "metadata": {},
     "output_type": "execute_result"
    }
   ],
   "source": [
    "grid2.fit(X, y)"
   ]
  },
  {
   "cell_type": "code",
   "execution_count": 16,
   "metadata": {},
   "outputs": [
    {
     "name": "stdout",
     "output_type": "stream",
     "text": [
      "r2 / variance :  0.7663805688356954\n",
      "Residual sum of squares: 43.51\n"
     ]
    }
   ],
   "source": [
    "print (\"r2 / variance : \", grid2.best_score_)\n",
    "print(\"Residual sum of squares: %.2f\"\n",
    "              % np.mean((grid2.predict(X) -y) ** 2))"
   ]
  },
  {
   "cell_type": "code",
   "execution_count": 27,
   "metadata": {},
   "outputs": [
    {
     "data": {
      "text/plain": [
       "['John_Madden.joblib']"
      ]
     },
     "execution_count": 27,
     "metadata": {},
     "output_type": "execute_result"
    }
   ],
   "source": [
    "model3 = LinearRegression(fit_intercept=False, normalize=True, copy_X=True)\n"
   ]
  },
  {
   "cell_type": "code",
   "execution_count": 22,
   "metadata": {},
   "outputs": [
    {
     "data": {
      "text/plain": [
       "['Pro_Set.joblib']"
      ]
     },
     "execution_count": 22,
     "metadata": {},
     "output_type": "execute_result"
    }
   ],
   "source": [
    "from sklearn.externals import joblib\n",
    "joblib.dump(grid2, 'Pro_Set.joblib') "
   ]
  },
  {
   "cell_type": "code",
   "execution_count": 17,
   "metadata": {},
   "outputs": [
    {
     "name": "stdout",
     "output_type": "stream",
     "text": [
      "{'copy_X': True, 'fit_intercept': False, 'normalize': True}\n",
      "0.7663805688356954\n"
     ]
    }
   ],
   "source": [
    "print(grid2.best_params_)\n",
    "print(grid2.best_score_)"
   ]
  },
  {
   "cell_type": "code",
   "execution_count": 28,
   "metadata": {},
   "outputs": [
    {
     "data": {
      "text/plain": [
       "['John_Madden.joblib']"
      ]
     },
     "execution_count": 28,
     "metadata": {},
     "output_type": "execute_result"
    }
   ],
   "source": [
    "model3.fit(X,y)\n",
    "from sklearn.externals import joblib\n",
    "joblib.dump(model3,'John_Madden.joblib')"
   ]
  },
  {
   "cell_type": "code",
   "execution_count": 37,
   "metadata": {},
   "outputs": [],
   "source": [
    "from sklearn.svm import SVC \n",
    "from sklearn.model_selection import GridSearchCV\n",
    "model2 = SVC(kernel='linear')\n",
    "param_grid = {'C': [ 0.001, 0.01, 0.1, 1],\n",
    "              'gamma': [ 0.00001,0.0001, 0.001, 0.01, 0.1]}\n",
    "grid = GridSearchCV(model2, param_grid, verbose=3, cv=3, scoring = 'r2')"
   ]
  },
  {
   "cell_type": "code",
   "execution_count": 38,
   "metadata": {},
   "outputs": [
    {
     "name": "stdout",
     "output_type": "stream",
     "text": [
      "Fitting 3 folds for each of 20 candidates, totalling 60 fits\n",
      "[CV] C=0.001, gamma=1e-05 ............................................\n"
     ]
    },
    {
     "name": "stderr",
     "output_type": "stream",
     "text": [
      "C:\\Users\\nicho\\Anaconda3\\lib\\site-packages\\sklearn\\model_selection\\_split.py:652: Warning: The least populated class in y has only 1 members, which is too few. The minimum number of members in any class cannot be less than n_splits=3.\n",
      "  % (min_groups, self.n_splits)), Warning)\n",
      "[Parallel(n_jobs=1)]: Using backend SequentialBackend with 1 concurrent workers.\n"
     ]
    },
    {
     "name": "stdout",
     "output_type": "stream",
     "text": [
      "[CV]  C=0.001, gamma=1e-05, score=-0.0034550648799327455, total=   0.1s\n",
      "[CV] C=0.001, gamma=1e-05 ............................................\n",
      "[CV]  C=0.001, gamma=1e-05, score=-0.010042689473768407, total=   0.0s\n",
      "[CV] C=0.001, gamma=1e-05 ............................................\n"
     ]
    },
    {
     "name": "stderr",
     "output_type": "stream",
     "text": [
      "[Parallel(n_jobs=1)]: Done   1 out of   1 | elapsed:    0.1s remaining:    0.0s\n",
      "[Parallel(n_jobs=1)]: Done   2 out of   2 | elapsed:    0.3s remaining:    0.0s\n"
     ]
    },
    {
     "name": "stdout",
     "output_type": "stream",
     "text": [
      "[CV]  C=0.001, gamma=1e-05, score=-0.005949712261470008, total=   0.1s\n",
      "[CV] C=0.001, gamma=0.0001 ...........................................\n",
      "[CV]  C=0.001, gamma=0.0001, score=-0.0034550648799327455, total=   0.1s\n",
      "[CV] C=0.001, gamma=0.0001 ...........................................\n",
      "[CV]  C=0.001, gamma=0.0001, score=-0.010042689473768407, total=   0.1s\n",
      "[CV] C=0.001, gamma=0.0001 ...........................................\n",
      "[CV]  C=0.001, gamma=0.0001, score=-0.005949712261470008, total=   0.1s\n",
      "[CV] C=0.001, gamma=0.001 ............................................\n",
      "[CV]  C=0.001, gamma=0.001, score=-0.0034550648799327455, total=   0.0s\n",
      "[CV] C=0.001, gamma=0.001 ............................................\n",
      "[CV]  C=0.001, gamma=0.001, score=-0.010042689473768407, total=   0.1s\n",
      "[CV] C=0.001, gamma=0.001 ............................................\n",
      "[CV]  C=0.001, gamma=0.001, score=-0.005949712261470008, total=   0.1s\n",
      "[CV] C=0.001, gamma=0.01 .............................................\n",
      "[CV]  C=0.001, gamma=0.01, score=-0.0034550648799327455, total=   0.2s\n",
      "[CV] C=0.001, gamma=0.01 .............................................\n",
      "[CV] . C=0.001, gamma=0.01, score=-0.010042689473768407, total=   0.2s\n",
      "[CV] C=0.001, gamma=0.01 .............................................\n",
      "[CV] . C=0.001, gamma=0.01, score=-0.005949712261470008, total=   0.1s\n",
      "[CV] C=0.001, gamma=0.1 ..............................................\n",
      "[CV] . C=0.001, gamma=0.1, score=-0.0034550648799327455, total=   0.1s\n",
      "[CV] C=0.001, gamma=0.1 ..............................................\n",
      "[CV] .. C=0.001, gamma=0.1, score=-0.010042689473768407, total=   0.3s\n",
      "[CV] C=0.001, gamma=0.1 ..............................................\n",
      "[CV] .. C=0.001, gamma=0.1, score=-0.005949712261470008, total=   0.2s\n",
      "[CV] C=0.01, gamma=1e-05 .............................................\n",
      "[CV] ... C=0.01, gamma=1e-05, score=0.09999675113006512, total=   0.2s\n",
      "[CV] C=0.01, gamma=1e-05 .............................................\n",
      "[CV] . C=0.01, gamma=1e-05, score=-0.010042689473768407, total=   0.1s\n",
      "[CV] C=0.01, gamma=1e-05 .............................................\n",
      "[CV] ... C=0.01, gamma=1e-05, score=0.08429102395361787, total=   0.4s\n",
      "[CV] C=0.01, gamma=0.0001 ............................................\n",
      "[CV] .. C=0.01, gamma=0.0001, score=0.09999675113006512, total=   0.2s\n",
      "[CV] C=0.01, gamma=0.0001 ............................................\n",
      "[CV]  C=0.01, gamma=0.0001, score=-0.010042689473768407, total=   0.2s\n",
      "[CV] C=0.01, gamma=0.0001 ............................................\n",
      "[CV] .. C=0.01, gamma=0.0001, score=0.08429102395361787, total=   0.1s\n",
      "[CV] C=0.01, gamma=0.001 .............................................\n",
      "[CV] ... C=0.01, gamma=0.001, score=0.09999675113006512, total=   0.2s\n",
      "[CV] C=0.01, gamma=0.001 .............................................\n",
      "[CV] . C=0.01, gamma=0.001, score=-0.010042689473768407, total=   0.1s\n",
      "[CV] C=0.01, gamma=0.001 .............................................\n",
      "[CV] ... C=0.01, gamma=0.001, score=0.08429102395361787, total=   0.2s\n",
      "[CV] C=0.01, gamma=0.01 ..............................................\n",
      "[CV] .... C=0.01, gamma=0.01, score=0.09999675113006512, total=   0.2s\n",
      "[CV] C=0.01, gamma=0.01 ..............................................\n",
      "[CV] .. C=0.01, gamma=0.01, score=-0.010042689473768407, total=   0.1s\n",
      "[CV] C=0.01, gamma=0.01 ..............................................\n",
      "[CV] .... C=0.01, gamma=0.01, score=0.08429102395361787, total=   0.2s\n",
      "[CV] C=0.01, gamma=0.1 ...............................................\n",
      "[CV] ..... C=0.01, gamma=0.1, score=0.09999675113006512, total=   0.1s\n",
      "[CV] C=0.01, gamma=0.1 ...............................................\n",
      "[CV] ... C=0.01, gamma=0.1, score=-0.010042689473768407, total=   0.2s\n",
      "[CV] C=0.01, gamma=0.1 ...............................................\n",
      "[CV] ..... C=0.01, gamma=0.1, score=0.08429102395361787, total=   0.1s\n",
      "[CV] C=0.1, gamma=1e-05 ..............................................\n",
      "[CV] ..... C=0.1, gamma=1e-05, score=0.2145720480226294, total=   0.2s\n",
      "[CV] C=0.1, gamma=1e-05 ..............................................\n",
      "[CV] ..... C=0.1, gamma=1e-05, score=0.1635394427987249, total=   0.3s\n",
      "[CV] C=0.1, gamma=1e-05 ..............................................\n",
      "[CV] .... C=0.1, gamma=1e-05, score=0.17663414291206803, total=   1.3s\n",
      "[CV] C=0.1, gamma=0.0001 .............................................\n",
      "[CV] .... C=0.1, gamma=0.0001, score=0.2145720480226294, total=   0.2s\n",
      "[CV] C=0.1, gamma=0.0001 .............................................\n",
      "[CV] .... C=0.1, gamma=0.0001, score=0.1635394427987249, total=   0.3s\n",
      "[CV] C=0.1, gamma=0.0001 .............................................\n",
      "[CV] ... C=0.1, gamma=0.0001, score=0.17663414291206803, total=   0.3s\n",
      "[CV] C=0.1, gamma=0.001 ..............................................\n",
      "[CV] ..... C=0.1, gamma=0.001, score=0.2145720480226294, total=   0.2s\n",
      "[CV] C=0.1, gamma=0.001 ..............................................\n",
      "[CV] ..... C=0.1, gamma=0.001, score=0.1635394427987249, total=   0.3s\n",
      "[CV] C=0.1, gamma=0.001 ..............................................\n",
      "[CV] .... C=0.1, gamma=0.001, score=0.17663414291206803, total=   0.3s\n",
      "[CV] C=0.1, gamma=0.01 ...............................................\n",
      "[CV] ...... C=0.1, gamma=0.01, score=0.2145720480226294, total=   0.6s\n",
      "[CV] C=0.1, gamma=0.01 ...............................................\n",
      "[CV] ...... C=0.1, gamma=0.01, score=0.1635394427987249, total=   0.2s\n",
      "[CV] C=0.1, gamma=0.01 ...............................................\n",
      "[CV] ..... C=0.1, gamma=0.01, score=0.17663414291206803, total=   0.3s\n",
      "[CV] C=0.1, gamma=0.1 ................................................\n",
      "[CV] ....... C=0.1, gamma=0.1, score=0.2145720480226294, total=   0.4s\n",
      "[CV] C=0.1, gamma=0.1 ................................................\n",
      "[CV] ....... C=0.1, gamma=0.1, score=0.1635394427987249, total=   0.3s\n",
      "[CV] C=0.1, gamma=0.1 ................................................\n",
      "[CV] ...... C=0.1, gamma=0.1, score=0.17663414291206803, total=   0.3s\n",
      "[CV] C=1, gamma=1e-05 ................................................\n",
      "[CV] ....... C=1, gamma=1e-05, score=0.6642178129040781, total=   0.6s\n",
      "[CV] C=1, gamma=1e-05 ................................................\n",
      "[CV] ....... C=1, gamma=1e-05, score=0.5407890528865282, total=   0.7s\n",
      "[CV] C=1, gamma=1e-05 ................................................\n",
      "[CV] ....... C=1, gamma=1e-05, score=0.5198279105472711, total=   1.1s\n",
      "[CV] C=1, gamma=0.0001 ...............................................\n",
      "[CV] ...... C=1, gamma=0.0001, score=0.6642178129040781, total=   0.7s\n",
      "[CV] C=1, gamma=0.0001 ...............................................\n",
      "[CV] ...... C=1, gamma=0.0001, score=0.5407890528865282, total=   0.7s\n",
      "[CV] C=1, gamma=0.0001 ...............................................\n",
      "[CV] ...... C=1, gamma=0.0001, score=0.5198279105472711, total=   0.8s\n",
      "[CV] C=1, gamma=0.001 ................................................\n",
      "[CV] ....... C=1, gamma=0.001, score=0.6642178129040781, total=   0.7s\n",
      "[CV] C=1, gamma=0.001 ................................................\n",
      "[CV] ....... C=1, gamma=0.001, score=0.5407890528865282, total=   0.8s\n",
      "[CV] C=1, gamma=0.001 ................................................\n",
      "[CV] ....... C=1, gamma=0.001, score=0.5198279105472711, total=   0.9s\n",
      "[CV] C=1, gamma=0.01 .................................................\n",
      "[CV] ........ C=1, gamma=0.01, score=0.6642178129040781, total=   0.8s\n",
      "[CV] C=1, gamma=0.01 .................................................\n",
      "[CV] ........ C=1, gamma=0.01, score=0.5407890528865282, total=   0.6s\n",
      "[CV] C=1, gamma=0.01 .................................................\n",
      "[CV] ........ C=1, gamma=0.01, score=0.5198279105472711, total=   0.9s\n",
      "[CV] C=1, gamma=0.1 ..................................................\n",
      "[CV] ......... C=1, gamma=0.1, score=0.6642178129040781, total=   0.7s\n",
      "[CV] C=1, gamma=0.1 ..................................................\n",
      "[CV] ......... C=1, gamma=0.1, score=0.5407890528865282, total=   0.8s\n",
      "[CV] C=1, gamma=0.1 ..................................................\n",
      "[CV] ......... C=1, gamma=0.1, score=0.5198279105472711, total=   0.8s\n"
     ]
    },
    {
     "name": "stderr",
     "output_type": "stream",
     "text": [
      "[Parallel(n_jobs=1)]: Done  60 out of  60 | elapsed:   32.3s finished\n",
      "C:\\Users\\nicho\\Anaconda3\\lib\\site-packages\\sklearn\\model_selection\\_search.py:841: DeprecationWarning: The default of the `iid` parameter will change from True to False in version 0.22 and will be removed in 0.24. This will change numeric results when test-set sizes are unequal.\n",
      "  DeprecationWarning)\n"
     ]
    },
    {
     "data": {
      "text/plain": [
       "GridSearchCV(cv=3, error_score='raise-deprecating',\n",
       "       estimator=SVC(C=1.0, cache_size=200, class_weight=None, coef0=0.0,\n",
       "  decision_function_shape='ovr', degree=3, gamma='auto_deprecated',\n",
       "  kernel='linear', max_iter=-1, probability=False, random_state=None,\n",
       "  shrinking=True, tol=0.001, verbose=False),\n",
       "       fit_params=None, iid='warn', n_jobs=None,\n",
       "       param_grid={'C': [0.001, 0.01, 0.1, 1], 'gamma': [1e-05, 0.0001, 0.001, 0.01, 0.1]},\n",
       "       pre_dispatch='2*n_jobs', refit=True, return_train_score='warn',\n",
       "       scoring='r2', verbose=3)"
      ]
     },
     "execution_count": 38,
     "metadata": {},
     "output_type": "execute_result"
    }
   ],
   "source": [
    "grid.fit(X,y)"
   ]
  },
  {
   "cell_type": "code",
   "execution_count": 39,
   "metadata": {},
   "outputs": [
    {
     "name": "stdout",
     "output_type": "stream",
     "text": [
      "{'C': 1, 'gamma': 1e-05}\n",
      "0.5788572774224352\n"
     ]
    }
   ],
   "source": [
    "print(grid.best_params_)\n",
    "print(grid.best_score_)"
   ]
  },
  {
   "cell_type": "code",
   "execution_count": 40,
   "metadata": {},
   "outputs": [
    {
     "data": {
      "text/plain": [
       "['Pro_Set.joblib']"
      ]
     },
     "execution_count": 40,
     "metadata": {},
     "output_type": "execute_result"
    }
   ],
   "source": [
    "from sklearn.externals import joblib\n",
    "joblib.dump(grid, 'Pro_Set.joblib') "
   ]
  },
  {
   "cell_type": "code",
   "execution_count": null,
   "metadata": {},
   "outputs": [],
   "source": []
  }
 ],
 "metadata": {
  "kernelspec": {
   "display_name": "Python 3",
   "language": "python",
   "name": "python3"
  },
  "language_info": {
   "codemirror_mode": {
    "name": "ipython",
    "version": 3
   },
   "file_extension": ".py",
   "mimetype": "text/x-python",
   "name": "python",
   "nbconvert_exporter": "python",
   "pygments_lexer": "ipython3",
   "version": "3.7.3"
  }
 },
 "nbformat": 4,
 "nbformat_minor": 2
}
