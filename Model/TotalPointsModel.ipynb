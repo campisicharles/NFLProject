{
 "cells": [
  {
   "cell_type": "code",
   "execution_count": 15,
   "metadata": {},
   "outputs": [
    {
     "data": {
      "text/html": [
       "<div>\n",
       "<style scoped>\n",
       "    .dataframe tbody tr th:only-of-type {\n",
       "        vertical-align: middle;\n",
       "    }\n",
       "\n",
       "    .dataframe tbody tr th {\n",
       "        vertical-align: top;\n",
       "    }\n",
       "\n",
       "    .dataframe thead th {\n",
       "        text-align: right;\n",
       "    }\n",
       "</style>\n",
       "<table border=\"1\" class=\"dataframe\">\n",
       "  <thead>\n",
       "    <tr style=\"text-align: right;\">\n",
       "      <th></th>\n",
       "      <th>Year</th>\n",
       "      <th>Week</th>\n",
       "      <th>HomeTeam</th>\n",
       "      <th>AwayTeam</th>\n",
       "      <th>HomeScore</th>\n",
       "      <th>AwayScore</th>\n",
       "      <th>PointDiff</th>\n",
       "      <th>HWHL</th>\n",
       "      <th>Covered</th>\n",
       "      <th>HomeLine</th>\n",
       "      <th>...</th>\n",
       "      <th>HOME_DefRushDVOA</th>\n",
       "      <th>HOME_STDVOA</th>\n",
       "      <th>VISIT_TotalDVOA</th>\n",
       "      <th>VISIT_OffenseDVOA</th>\n",
       "      <th>VISIT_OffPassDVOA</th>\n",
       "      <th>VISIT_OffRushDVOA</th>\n",
       "      <th>VISIT_DefenseDVOA</th>\n",
       "      <th>VISIT_DefPassDVOA</th>\n",
       "      <th>VISIT_DefRushDVOA</th>\n",
       "      <th>VISIT_STDVOA</th>\n",
       "    </tr>\n",
       "  </thead>\n",
       "  <tbody>\n",
       "    <tr>\n",
       "      <th>0</th>\n",
       "      <td>2019</td>\n",
       "      <td>6</td>\n",
       "      <td>GB</td>\n",
       "      <td>DET</td>\n",
       "      <td>23</td>\n",
       "      <td>22</td>\n",
       "      <td>1</td>\n",
       "      <td>0</td>\n",
       "      <td>0</td>\n",
       "      <td>-6.0</td>\n",
       "      <td>...</td>\n",
       "      <td>-0.221</td>\n",
       "      <td>2.000</td>\n",
       "      <td>-0.013</td>\n",
       "      <td>-0.246</td>\n",
       "      <td>0.026</td>\n",
       "      <td>-0.375</td>\n",
       "      <td>-0.014</td>\n",
       "      <td>-0.057</td>\n",
       "      <td>0.049</td>\n",
       "      <td>0.219</td>\n",
       "    </tr>\n",
       "    <tr>\n",
       "      <th>1</th>\n",
       "      <td>2019</td>\n",
       "      <td>6</td>\n",
       "      <td>SD</td>\n",
       "      <td>PIT</td>\n",
       "      <td>17</td>\n",
       "      <td>24</td>\n",
       "      <td>-7</td>\n",
       "      <td>1</td>\n",
       "      <td>0</td>\n",
       "      <td>-5.5</td>\n",
       "      <td>...</td>\n",
       "      <td>-0.069</td>\n",
       "      <td>-0.062</td>\n",
       "      <td>0.025</td>\n",
       "      <td>-0.056</td>\n",
       "      <td>0.161</td>\n",
       "      <td>-0.163</td>\n",
       "      <td>-0.050</td>\n",
       "      <td>0.069</td>\n",
       "      <td>-0.399</td>\n",
       "      <td>0.031</td>\n",
       "    </tr>\n",
       "    <tr>\n",
       "      <th>2</th>\n",
       "      <td>2019</td>\n",
       "      <td>6</td>\n",
       "      <td>DEN</td>\n",
       "      <td>TEN</td>\n",
       "      <td>16</td>\n",
       "      <td>0</td>\n",
       "      <td>16</td>\n",
       "      <td>0</td>\n",
       "      <td>1</td>\n",
       "      <td>-2.5</td>\n",
       "      <td>...</td>\n",
       "      <td>-0.628</td>\n",
       "      <td>0.085</td>\n",
       "      <td>-0.577</td>\n",
       "      <td>-0.724</td>\n",
       "      <td>-0.562</td>\n",
       "      <td>-0.692</td>\n",
       "      <td>-0.194</td>\n",
       "      <td>-0.179</td>\n",
       "      <td>-0.210</td>\n",
       "      <td>-0.047</td>\n",
       "    </tr>\n",
       "    <tr>\n",
       "      <th>3</th>\n",
       "      <td>2019</td>\n",
       "      <td>6</td>\n",
       "      <td>NYJ</td>\n",
       "      <td>DAL</td>\n",
       "      <td>24</td>\n",
       "      <td>22</td>\n",
       "      <td>2</td>\n",
       "      <td>0</td>\n",
       "      <td>1</td>\n",
       "      <td>8.5</td>\n",
       "      <td>...</td>\n",
       "      <td>-0.158</td>\n",
       "      <td>0.080</td>\n",
       "      <td>0.048</td>\n",
       "      <td>0.289</td>\n",
       "      <td>0.486</td>\n",
       "      <td>0.077</td>\n",
       "      <td>0.276</td>\n",
       "      <td>0.467</td>\n",
       "      <td>-0.086</td>\n",
       "      <td>0.036</td>\n",
       "    </tr>\n",
       "    <tr>\n",
       "      <th>4</th>\n",
       "      <td>2019</td>\n",
       "      <td>6</td>\n",
       "      <td>ARI</td>\n",
       "      <td>ATL</td>\n",
       "      <td>34</td>\n",
       "      <td>33</td>\n",
       "      <td>1</td>\n",
       "      <td>0</td>\n",
       "      <td>1</td>\n",
       "      <td>2.0</td>\n",
       "      <td>...</td>\n",
       "      <td>0.033</td>\n",
       "      <td>-0.023</td>\n",
       "      <td>-0.026</td>\n",
       "      <td>0.326</td>\n",
       "      <td>0.662</td>\n",
       "      <td>-0.034</td>\n",
       "      <td>0.337</td>\n",
       "      <td>0.802</td>\n",
       "      <td>-0.243</td>\n",
       "      <td>-0.015</td>\n",
       "    </tr>\n",
       "  </tbody>\n",
       "</table>\n",
       "<p>5 rows × 29 columns</p>\n",
       "</div>"
      ],
      "text/plain": [
       "   Year  Week HomeTeam AwayTeam  HomeScore  AwayScore  PointDiff  HWHL  \\\n",
       "0  2019     6       GB      DET         23         22          1     0   \n",
       "1  2019     6       SD      PIT         17         24         -7     1   \n",
       "2  2019     6      DEN      TEN         16          0         16     0   \n",
       "3  2019     6      NYJ      DAL         24         22          2     0   \n",
       "4  2019     6      ARI      ATL         34         33          1     0   \n",
       "\n",
       "   Covered  HomeLine  ...  HOME_DefRushDVOA  HOME_STDVOA  VISIT_TotalDVOA  \\\n",
       "0        0      -6.0  ...            -0.221        2.000           -0.013   \n",
       "1        0      -5.5  ...            -0.069       -0.062            0.025   \n",
       "2        1      -2.5  ...            -0.628        0.085           -0.577   \n",
       "3        1       8.5  ...            -0.158        0.080            0.048   \n",
       "4        1       2.0  ...             0.033       -0.023           -0.026   \n",
       "\n",
       "   VISIT_OffenseDVOA  VISIT_OffPassDVOA  VISIT_OffRushDVOA  VISIT_DefenseDVOA  \\\n",
       "0             -0.246              0.026             -0.375             -0.014   \n",
       "1             -0.056              0.161             -0.163             -0.050   \n",
       "2             -0.724             -0.562             -0.692             -0.194   \n",
       "3              0.289              0.486              0.077              0.276   \n",
       "4              0.326              0.662             -0.034              0.337   \n",
       "\n",
       "   VISIT_DefPassDVOA  VISIT_DefRushDVOA  VISIT_STDVOA  \n",
       "0             -0.057              0.049         0.219  \n",
       "1              0.069             -0.399         0.031  \n",
       "2             -0.179             -0.210        -0.047  \n",
       "3              0.467             -0.086         0.036  \n",
       "4              0.802             -0.243        -0.015  \n",
       "\n",
       "[5 rows x 29 columns]"
      ]
     },
     "execution_count": 15,
     "metadata": {},
     "output_type": "execute_result"
    }
   ],
   "source": [
    "import numpy as np\n",
    "import pandas as pd\n",
    "game_data = pd.read_csv('Game_Data2.csv')\n",
    "game_data.head()"
   ]
  },
  {
   "cell_type": "code",
   "execution_count": 16,
   "metadata": {},
   "outputs": [
    {
     "name": "stdout",
     "output_type": "stream",
     "text": [
      "(1030, 12) (1030,)\n"
     ]
    }
   ],
   "source": [
    "X = game_data[['HomeLine', 'PredictTotal', 'HOME_OffPassDVOA', 'HOME_OffRushDVOA', 'HOME_DefPassDVOA', 'HOME_DefRushDVOA', 'HOME_STDVOA', 'VISIT_OffPassDVOA', 'VISIT_OffRushDVOA', 'VISIT_DefPassDVOA', 'VISIT_DefRushDVOA', 'VISIT_STDVOA' ]]\n",
    "y = game_data['ActualTotal']\n",
    "print(X.shape, y.shape)"
   ]
  },
  {
   "cell_type": "code",
   "execution_count": 8,
   "metadata": {},
   "outputs": [
    {
     "name": "stdout",
     "output_type": "stream",
     "text": [
      "MSE: 132.32886037682837, R2: 0.33736881811628827\n"
     ]
    }
   ],
   "source": [
    "from sklearn.model_selection import train_test_split\n",
    "from sklearn.linear_model import LinearRegression\n",
    "from sklearn.metrics import mean_squared_error\n",
    "\n",
    "model = LinearRegression()\n",
    "X_train, X_test, y_train, y_test = train_test_split(X, y, random_state=29)\n",
    "model.fit(X_train, y_train)\n",
    "\n",
    "\n",
    "MSE = mean_squared_error(y_train, model.predict(X_train))\n",
    "r2 = model.score(X_train, y_train)\n",
    "print(f\"MSE: {MSE}, R2: {r2}\")"
   ]
  },
  {
   "cell_type": "code",
   "execution_count": 19,
   "metadata": {},
   "outputs": [],
   "source": [
    "from sklearn.linear_model import LinearRegression\n",
    "from sklearn.model_selection import GridSearchCV\n",
    "model2 = LinearRegression()\n",
    "parameters = {'fit_intercept':[True,False], 'normalize':[True,False], 'copy_X':[True, False]}\n",
    "grid2 = GridSearchCV(model2,parameters, verbose=3, cv=3, scoring='r2')"
   ]
  },
  {
   "cell_type": "code",
   "execution_count": 21,
   "metadata": {},
   "outputs": [
    {
     "name": "stdout",
     "output_type": "stream",
     "text": [
      "Fitting 3 folds for each of 8 candidates, totalling 24 fits\n",
      "[CV] copy_X=True, fit_intercept=True, normalize=True .................\n",
      "[CV]  copy_X=True, fit_intercept=True, normalize=True, score=0.3206490065138332, total=   0.0s\n",
      "[CV] copy_X=True, fit_intercept=True, normalize=True .................\n",
      "[CV]  copy_X=True, fit_intercept=True, normalize=True, score=0.3412991921700451, total=   0.0s\n",
      "[CV] copy_X=True, fit_intercept=True, normalize=True .................\n",
      "[CV]  copy_X=True, fit_intercept=True, normalize=True, score=0.31576579913842207, total=   0.0s\n",
      "[CV] copy_X=True, fit_intercept=True, normalize=False ................\n",
      "[CV]  copy_X=True, fit_intercept=True, normalize=False, score=0.3206490065138332, total=   0.0s\n",
      "[CV] copy_X=True, fit_intercept=True, normalize=False ................\n",
      "[CV]  copy_X=True, fit_intercept=True, normalize=False, score=0.3412991921700451, total=   0.0s\n",
      "[CV] copy_X=True, fit_intercept=True, normalize=False ................\n",
      "[CV]  copy_X=True, fit_intercept=True, normalize=False, score=0.31576579913842207, total=   0.0s\n",
      "[CV] copy_X=True, fit_intercept=False, normalize=True ................\n",
      "[CV]  copy_X=True, fit_intercept=False, normalize=True, score=0.30005000256676595, total=   0.0s\n",
      "[CV] copy_X=True, fit_intercept=False, normalize=True ................\n",
      "[CV]  copy_X=True, fit_intercept=False, normalize=True, score=0.3208248721835091, total=   0.0s\n",
      "[CV] copy_X=True, fit_intercept=False, normalize=True ................\n",
      "[CV]  copy_X=True, fit_intercept=False, normalize=True, score=0.3117710803668525, total=   0.0s\n",
      "[CV] copy_X=True, fit_intercept=False, normalize=False ...............\n",
      "[CV]  copy_X=True, fit_intercept=False, normalize=False, score=0.30005000256676595, total=   0.0s\n",
      "[CV] copy_X=True, fit_intercept=False, normalize=False ...............\n",
      "[CV]  copy_X=True, fit_intercept=False, normalize=False, score=0.3208248721835091, total=   0.0s\n",
      "[CV] copy_X=True, fit_intercept=False, normalize=False ...............\n",
      "[CV]  copy_X=True, fit_intercept=False, normalize=False, score=0.3117710803668525, total=   0.0s\n",
      "[CV] copy_X=False, fit_intercept=True, normalize=True ................\n",
      "[CV]  copy_X=False, fit_intercept=True, normalize=True, score=0.3206490065138332, total=   0.0s\n",
      "[CV] copy_X=False, fit_intercept=True, normalize=True ................\n",
      "[CV]  copy_X=False, fit_intercept=True, normalize=True, score=0.3412991921700451, total=   0.0s\n",
      "[CV] copy_X=False, fit_intercept=True, normalize=True ................\n",
      "[CV]  copy_X=False, fit_intercept=True, normalize=True, score=0.31576579913842207, total=   0.0s\n",
      "[CV] copy_X=False, fit_intercept=True, normalize=False ...............\n",
      "[CV]  copy_X=False, fit_intercept=True, normalize=False, score=0.3206490065138332, total=   0.0s\n",
      "[CV] copy_X=False, fit_intercept=True, normalize=False ...............\n",
      "[CV]  copy_X=False, fit_intercept=True, normalize=False, score=0.3412991921700451, total=   0.0s\n",
      "[CV] copy_X=False, fit_intercept=True, normalize=False ...............\n",
      "[CV]  copy_X=False, fit_intercept=True, normalize=False, score=0.31576579913842207, total=   0.0s\n",
      "[CV] copy_X=False, fit_intercept=False, normalize=True ...............\n",
      "[CV]  copy_X=False, fit_intercept=False, normalize=True, score=0.30005000256676595, total=   0.0s\n",
      "[CV] copy_X=False, fit_intercept=False, normalize=True ...............\n",
      "[CV]  copy_X=False, fit_intercept=False, normalize=True, score=0.3208248721835091, total=   0.0s\n",
      "[CV] copy_X=False, fit_intercept=False, normalize=True ...............\n",
      "[CV]  copy_X=False, fit_intercept=False, normalize=True, score=0.3117710803668525, total=   0.0s\n",
      "[CV] copy_X=False, fit_intercept=False, normalize=False ..............\n",
      "[CV]  copy_X=False, fit_intercept=False, normalize=False, score=0.30005000256676595, total=   0.0s"
     ]
    },
    {
     "name": "stderr",
     "output_type": "stream",
     "text": [
      "[Parallel(n_jobs=1)]: Using backend SequentialBackend with 1 concurrent workers.\n",
      "[Parallel(n_jobs=1)]: Done   1 out of   1 | elapsed:    0.0s remaining:    0.0s\n",
      "[Parallel(n_jobs=1)]: Done   2 out of   2 | elapsed:    0.0s remaining:    0.0s\n"
     ]
    },
    {
     "name": "stdout",
     "output_type": "stream",
     "text": [
      "\n",
      "[CV] copy_X=False, fit_intercept=False, normalize=False ..............\n",
      "[CV]  copy_X=False, fit_intercept=False, normalize=False, score=0.3208248721835091, total=   0.0s\n",
      "[CV] copy_X=False, fit_intercept=False, normalize=False ..............\n",
      "[CV]  copy_X=False, fit_intercept=False, normalize=False, score=0.3117710803668525, total=   0.0s\n"
     ]
    },
    {
     "name": "stderr",
     "output_type": "stream",
     "text": [
      "[Parallel(n_jobs=1)]: Done  24 out of  24 | elapsed:    0.1s finished\n"
     ]
    },
    {
     "data": {
      "text/plain": [
       "GridSearchCV(cv=3, error_score='raise-deprecating',\n",
       "       estimator=LinearRegression(copy_X=True, fit_intercept=True, n_jobs=None,\n",
       "         normalize=False),\n",
       "       fit_params=None, iid='warn', n_jobs=None,\n",
       "       param_grid={'fit_intercept': [True, False], 'normalize': [True, False], 'copy_X': [True, False]},\n",
       "       pre_dispatch='2*n_jobs', refit=True, return_train_score='warn',\n",
       "       scoring='r2', verbose=3)"
      ]
     },
     "execution_count": 21,
     "metadata": {},
     "output_type": "execute_result"
    }
   ],
   "source": [
    "grid2.fit(X, y)"
   ]
  },
  {
   "cell_type": "code",
   "execution_count": 22,
   "metadata": {},
   "outputs": [
    {
     "name": "stdout",
     "output_type": "stream",
     "text": [
      "{'copy_X': True, 'fit_intercept': True, 'normalize': True}\n",
      "0.3258995633587989\n"
     ]
    }
   ],
   "source": [
    "print(grid2.best_params_)\n",
    "print(grid2.best_score_)"
   ]
  },
  {
   "cell_type": "code",
   "execution_count": 23,
   "metadata": {},
   "outputs": [
    {
     "name": "stdout",
     "output_type": "stream",
     "text": [
      "r2 / variance :  0.3258995633587989\n",
      "Residual sum of squares: 128.75\n"
     ]
    }
   ],
   "source": [
    "print (\"r2 / variance : \", grid2.best_score_)\n",
    "print(\"Residual sum of squares: %.2f\"\n",
    "              % np.mean((grid2.predict(X) -y) ** 2))"
   ]
  },
  {
   "cell_type": "code",
   "execution_count": 27,
   "metadata": {},
   "outputs": [
    {
     "data": {
      "text/plain": [
       "['Points.joblib']"
      ]
     },
     "execution_count": 27,
     "metadata": {},
     "output_type": "execute_result"
    }
   ],
   "source": [
    "pointsModel = LinearRegression(fit_intercept=True, normalize=True, copy_X=True)\n"
   ]
  },
  {
   "cell_type": "code",
   "execution_count": 29,
   "metadata": {},
   "outputs": [
    {
     "data": {
      "text/plain": [
       "array([46.35085671])"
      ]
     },
     "execution_count": 29,
     "metadata": {},
     "output_type": "execute_result"
    }
   ],
   "source": [
    "thursX = [[4.5,50.5,-0.1585,0.0125,0.201,-0.16775,-0.06975,0.4765,-0.22075,-0.107,0.076,-0.033]]\n",
    "pointsModel.fit(X,y)\n",
    "pointsModel.predict(thursX)"
   ]
  },
  {
   "cell_type": "code",
   "execution_count": 30,
   "metadata": {},
   "outputs": [
    {
     "data": {
      "text/plain": [
       "['Points.joblib']"
      ]
     },
     "execution_count": 30,
     "metadata": {},
     "output_type": "execute_result"
    }
   ],
   "source": [
    "\n",
    "from sklearn.externals import joblib\n",
    "joblib.dump(pointsModel,'Points.joblib')"
   ]
  },
  {
   "cell_type": "code",
   "execution_count": null,
   "metadata": {},
   "outputs": [],
   "source": []
  }
 ],
 "metadata": {
  "kernelspec": {
   "display_name": "Python 3",
   "language": "python",
   "name": "python3"
  },
  "language_info": {
   "codemirror_mode": {
    "name": "ipython",
    "version": 3
   },
   "file_extension": ".py",
   "mimetype": "text/x-python",
   "name": "python",
   "nbconvert_exporter": "python",
   "pygments_lexer": "ipython3",
   "version": "3.7.3"
  }
 },
 "nbformat": 4,
 "nbformat_minor": 2
}
